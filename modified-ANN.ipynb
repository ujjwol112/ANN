{
 "cells": [
  {
   "cell_type": "code",
   "execution_count": 1,
   "id": "0cb1d8a8",
   "metadata": {
    "executionInfo": {
     "elapsed": 448,
     "status": "ok",
     "timestamp": 1691414707877,
     "user": {
      "displayName": "Roshan Pokharel",
      "userId": "00416791194230879335"
     },
     "user_tz": -345
    },
    "id": "0cb1d8a8"
   },
   "outputs": [],
   "source": [
    "# Import necessary dependencies\n",
    "import numpy as np\n",
    "import pandas as pd\n",
    "import matplotlib.pyplot as plt"
   ]
  },
  {
   "cell_type": "code",
   "execution_count": 2,
   "id": "5c1d152f",
   "metadata": {
    "colab": {
     "base_uri": "https://localhost:8080/"
    },
    "executionInfo": {
     "elapsed": 5150,
     "status": "ok",
     "timestamp": 1691414714323,
     "user": {
      "displayName": "Roshan Pokharel",
      "userId": "00416791194230879335"
     },
     "user_tz": -345
    },
    "id": "5c1d152f",
    "outputId": "c1664bea-3a24-427f-b38b-d39dd0bf7bb8"
   },
   "outputs": [
    {
     "name": "stdout",
     "output_type": "stream",
     "text": [
      "Size of the dataframe:  (42000, 785)\n"
     ]
    }
   ],
   "source": [
    "# Read the datafile\n",
    "df = pd.read_csv('digit_data.csv')\n",
    "print('Size of the dataframe: ',df.shape)"
   ]
  },
  {
   "cell_type": "code",
   "execution_count": 3,
   "id": "OHcINPwwIT5g",
   "metadata": {
    "colab": {
     "base_uri": "https://localhost:8080/",
     "height": 169
    },
    "executionInfo": {
     "elapsed": 2649,
     "status": "ok",
     "timestamp": 1691430552357,
     "user": {
      "displayName": "Roshan Pokharel",
      "userId": "00416791194230879335"
     },
     "user_tz": -345
    },
    "id": "OHcINPwwIT5g",
    "outputId": "c4a0f9ab-f9c1-4bde-ed8c-53ae842b963d"
   },
   "outputs": [
    {
     "data": {
      "image/png": "[encoded data removed]",
      "text/plain": [
       "<Figure size 300x300 with 10 Axes>"
      ]
     },
     "metadata": {},
     "output_type": "display_data"
    }
   ],
   "source": [
    "# Visualize images from each label\n",
    "random_rows = df.groupby('label').apply(lambda x: x.sample(1)).reset_index(drop=True)\n",
    "\n",
    "fig, axes = plt.subplots(2, 5, figsize=(3, 3))\n",
    "\n",
    "for i, ax in enumerate(axes.flat):\n",
    "    image_data = random_rows.iloc[i, 1:].values\n",
    "    image = np.array(image_data).reshape(28,28)\n",
    "    label = random_rows.iloc[i, 0]\n",
    "    ax.imshow(image, cmap='gray')\n",
    "    ax.set_title(f\"Label: {label}\", fontsize=8)\n",
    "    ax.axis('off')\n",
    "\n",
    "plt.subplots_adjust(wspace=.2, hspace=-.8)\n",
    "plt.tight_layout()\n",
    "plt.show()"
   ]
  },
  {
   "cell_type": "code",
   "execution_count": 4,
   "id": "06eb185a",
   "metadata": {
    "executionInfo": {
     "elapsed": 697,
     "status": "ok",
     "timestamp": 1691430537813,
     "user": {
      "displayName": "Roshan Pokharel",
      "userId": "00416791194230879335"
     },
     "user_tz": -345
    },
    "id": "06eb185a"
   },
   "outputs": [],
   "source": [
    "# Convert df to numpy array\n",
    "df_arr = np.array(df)"
   ]
  },
  {
   "cell_type": "code",
   "execution_count": 5,
   "id": "476f4aaf",
   "metadata": {
    "executionInfo": {
     "elapsed": 6,
     "status": "ok",
     "timestamp": 1691430538527,
     "user": {
      "displayName": "Roshan Pokharel",
      "userId": "00416791194230879335"
     },
     "user_tz": -345
    },
    "id": "476f4aaf"
   },
   "outputs": [],
   "source": [
    "# Shuffle the array\n",
    "np.random.seed(42)\n",
    "np.random.shuffle(df_arr)"
   ]
  },
  {
   "cell_type": "code",
   "execution_count": 6,
   "id": "ac4adf71",
   "metadata": {
    "colab": {
     "base_uri": "https://localhost:8080/"
    },
    "executionInfo": {
     "elapsed": 7,
     "status": "ok",
     "timestamp": 1691430538528,
     "user": {
      "displayName": "Roshan Pokharel",
      "userId": "00416791194230879335"
     },
     "user_tz": -345
    },
    "id": "ac4adf71",
    "outputId": "bb89ed4d-8d52-47aa-dfbf-a0d242c0714a"
   },
   "outputs": [
    {
     "name": "stdout",
     "output_type": "stream",
     "text": [
      "Shape of test image:  (784, 1000)\n"
     ]
    }
   ],
   "source": [
    "# Create the test set\n",
    "test_set = df_arr[:1000,:]\n",
    "\n",
    "# Transpose the data\n",
    "test_set = test_set.T\n",
    "\n",
    "# Split the image (normalize the image) and it's label\n",
    "test_image = test_set[1:,:]/255\n",
    "test_label = test_set[0,:]\n",
    "\n",
    "print('Shape of test image: ',test_image.shape)"
   ]
  },
  {
   "cell_type": "code",
   "execution_count": 7,
   "id": "wWi9Q5PKQ0CH",
   "metadata": {
    "colab": {
     "base_uri": "https://localhost:8080/"
    },
    "executionInfo": {
     "elapsed": 5,
     "status": "ok",
     "timestamp": 1691430539106,
     "user": {
      "displayName": "Roshan Pokharel",
      "userId": "00416791194230879335"
     },
     "user_tz": -345
    },
    "id": "wWi9Q5PKQ0CH",
    "outputId": "ff77b0e3-57d5-426a-a27d-49fd8e885161"
   },
   "outputs": [
    {
     "name": "stdout",
     "output_type": "stream",
     "text": [
      "Shape of train image:  (784, 41000)\n"
     ]
    }
   ],
   "source": [
    "# Create the train set\n",
    "train_set = df_arr[1000:,:]\n",
    "\n",
    "# Transpose the data\n",
    "train_set = train_set.T\n",
    "\n",
    "# Split the image (normalize the image) and it's label\n",
    "train_image = train_set[1:,:]/255\n",
    "train_label = train_set[0,:]\n",
    "\n",
    "print('Shape of train image: ',train_image.shape)"
   ]
  },
  {
   "cell_type": "code",
   "execution_count": 8,
   "id": "31b317bb",
   "metadata": {
    "colab": {
     "base_uri": "https://localhost:8080/",
     "height": 290
    },
    "executionInfo": {
     "elapsed": 486,
     "status": "ok",
     "timestamp": 1691430576277,
     "user": {
      "displayName": "Roshan Pokharel",
      "userId": "00416791194230879335"
     },
     "user_tz": -345
    },
    "id": "31b317bb",
    "outputId": "537039eb-8ec2-4ea1-82c6-e8e4c7e063a2"
   },
   "outputs": [
    {
     "data": {
      "image/png": "[encoded data removed]",
      "text/plain": [
       "<Figure size 300x300 with 1 Axes>"
      ]
     },
     "metadata": {},
     "output_type": "display_data"
    }
   ],
   "source": [
    "# Plot the random image from the train set\n",
    "idx = np.random.randint(1000, 42000)\n",
    "image = train_image[:,idx].reshape(28,28)\n",
    "label = train_label[idx]\n",
    "plt.figure(figsize=(3,3))\n",
    "plt.imshow(image, cmap='gray')\n",
    "plt.title(f\"Label: {label}\", fontsize=12)\n",
    "plt.axis('off')\n",
    "plt.show()"
   ]
  },
  {
   "cell_type": "code",
   "execution_count": 9,
   "id": "DN-bCn80Y3YO",
   "metadata": {
    "executionInfo": {
     "elapsed": 454,
     "status": "ok",
     "timestamp": 1691430583499,
     "user": {
      "displayName": "Roshan Pokharel",
      "userId": "00416791194230879335"
     },
     "user_tz": -345
    },
    "id": "DN-bCn80Y3YO"
   },
   "outputs": [],
   "source": [
    "# Define the size parameters\n",
    "input_size = 784\n",
    "hidden1_size = 10\n",
    "hidden2_size = 10\n",
    "output_size = 10"
   ]
  },
  {
   "cell_type": "code",
   "execution_count": 10,
   "id": "vMLaWDlXYqKv",
   "metadata": {
    "executionInfo": {
     "elapsed": 653,
     "status": "ok",
     "timestamp": 1691430586593,
     "user": {
      "displayName": "Roshan Pokharel",
      "userId": "00416791194230879335"
     },
     "user_tz": -345
    },
    "id": "vMLaWDlXYqKv"
   },
   "outputs": [],
   "source": [
    "# Function to initialize the parameters (Xavier initialization)\n",
    "def initialize_parameters():\n",
    "    np.random.seed(42)\n",
    "    \n",
    "    W0 = np.random.randn(hidden1_size, input_size) * np.sqrt(2 / (input_size + hidden1_size))\n",
    "    b0 = np.zeros((hidden1_size, 1))\n",
    "    \n",
    "    W1 = np.random.randn(hidden2_size, hidden1_size) * np.sqrt(2 / (hidden1_size + hidden2_size))\n",
    "    b1 = np.zeros((hidden2_size, 1))\n",
    "    \n",
    "    W2 = np.random.randn(output_size, hidden2_size) * np.sqrt(2 / (hidden2_size + output_size))\n",
    "    b2 = np.zeros((output_size, 1))\n",
    "    \n",
    "    return W0, b0, W1, b1, W2, b2"
   ]
  },
  {
   "cell_type": "code",
   "execution_count": 11,
   "id": "40e5e89a",
   "metadata": {
    "executionInfo": {
     "elapsed": 3,
     "status": "ok",
     "timestamp": 1691417833585,
     "user": {
      "displayName": "Roshan Pokharel",
      "userId": "00416791194230879335"
     },
     "user_tz": -345
    },
    "id": "40e5e89a"
   },
   "outputs": [],
   "source": [
    "# Define function for tanh\n",
    "def tanh_activation(x):\n",
    "    return np.tanh(x)"
   ]
  },
  {
   "cell_type": "code",
   "execution_count": 12,
   "id": "A3Hrmj82YcCN",
   "metadata": {
    "executionInfo": {
     "elapsed": 3,
     "status": "ok",
     "timestamp": 1691418318368,
     "user": {
      "displayName": "Roshan Pokharel",
      "userId": "00416791194230879335"
     },
     "user_tz": -345
    },
    "id": "A3Hrmj82YcCN"
   },
   "outputs": [],
   "source": [
    "# Define function for derivative of tanh\n",
    "def tanh_derivative(x):\n",
    "    return 1 - np.tanh(x)**2"
   ]
  },
  {
   "cell_type": "code",
   "execution_count": 13,
   "id": "RS9DxODfYaoQ",
   "metadata": {
    "executionInfo": {
     "elapsed": 538,
     "status": "ok",
     "timestamp": 1691418717103,
     "user": {
      "displayName": "Roshan Pokharel",
      "userId": "00416791194230879335"
     },
     "user_tz": -345
    },
    "id": "RS9DxODfYaoQ"
   },
   "outputs": [],
   "source": [
    "# Define sigmoid activation\n",
    "def sigmoid_activation(x):\n",
    "    return 1 / (1 + np.exp(-x))"
   ]
  },
  {
   "cell_type": "code",
   "execution_count": 14,
   "id": "Jyvcd8UQZSJs",
   "metadata": {
    "executionInfo": {
     "elapsed": 8,
     "status": "ok",
     "timestamp": 1691418717534,
     "user": {
      "displayName": "Roshan Pokharel",
      "userId": "00416791194230879335"
     },
     "user_tz": -345
    },
    "id": "Jyvcd8UQZSJs"
   },
   "outputs": [],
   "source": [
    "# Define sigmoid derivative\n",
    "def sigmoid_derivative(x):\n",
    "    sig = sigmoid_activation(x)\n",
    "    return sig * (1 - sig)"
   ]
  },
  {
   "cell_type": "code",
   "execution_count": 15,
   "id": "611d94b7",
   "metadata": {
    "executionInfo": {
     "elapsed": 5,
     "status": "ok",
     "timestamp": 1691418833043,
     "user": {
      "displayName": "Roshan Pokharel",
      "userId": "00416791194230879335"
     },
     "user_tz": -345
    },
    "id": "611d94b7"
   },
   "outputs": [],
   "source": [
    "# Define the softmax function\n",
    "def softmax_activation(x):\n",
    "    # Subtraction for numerical stability\n",
    "    temp = np.exp(x - np.max(x))\n",
    "    return temp / np.sum(temp, axis = 0)"
   ]
  },
  {
   "cell_type": "code",
   "execution_count": 16,
   "id": "9c51b3fc-3ed0-4704-8887-ba068451ec32",
   "metadata": {},
   "outputs": [],
   "source": [
    "def batch_normalize(Z, epsilon=1e-8):\n",
    "    mean = np.mean(Z, axis=1, keepdims=True)\n",
    "    variance = np.var(Z, axis=1, keepdims=True)\n",
    "    normalized = (Z - mean) / np.sqrt(variance + epsilon)\n",
    "    return normalized"
   ]
  },
  {
   "cell_type": "code",
   "execution_count": 17,
   "id": "601a8eeb",
   "metadata": {
    "executionInfo": {
     "elapsed": 449,
     "status": "ok",
     "timestamp": 1691430632045,
     "user": {
      "displayName": "Roshan Pokharel",
      "userId": "00416791194230879335"
     },
     "user_tz": -345
    },
    "id": "601a8eeb"
   },
   "outputs": [],
   "source": [
    "# Function to implement forward propagation\n",
    "def forward_propagation(W0, b0, W1, b1, W2, b2, A0):\n",
    "    # Calculate the input to the hidden layer (Z1)\n",
    "    Z1 = np.dot(W0, A0) + b0\n",
    "    Z1 = batch_normalize(Z1)\n",
    "    A1 = tanh_activation(Z1)\n",
    "\n",
    "    # Calculate the input to the hidden layer (Z2)\n",
    "    Z2 = np.dot(W1, A1) + b1\n",
    "    A2 = sigmoid_activation(Z2)\n",
    "\n",
    "    # Calculate the input to the output layer (Z3)\n",
    "    Z3 = np.dot(W2, A2) + b2\n",
    "    A3 = softmax_activation(Z3)\n",
    "\n",
    "    return Z1, A1, Z2, A2, Z3, A3"
   ]
  },
  {
   "cell_type": "code",
   "execution_count": 18,
   "id": "6d815727",
   "metadata": {
    "executionInfo": {
     "elapsed": 534,
     "status": "ok",
     "timestamp": 1691423568259,
     "user": {
      "displayName": "Roshan Pokharel",
      "userId": "00416791194230879335"
     },
     "user_tz": -345
    },
    "id": "6d815727"
   },
   "outputs": [],
   "source": [
    "def one_hot_label(Y):\n",
    "    m = Y.shape[0]\n",
    "    one_hot_encoded = np.zeros((10, m))\n",
    "    one_hot_encoded[Y, np.arange(m)] = 1\n",
    "    return one_hot_encoded"
   ]
  },
  {
   "cell_type": "code",
   "execution_count": 19,
   "id": "Ld5E3va1fpgQ",
   "metadata": {
    "executionInfo": {
     "elapsed": 1040,
     "status": "ok",
     "timestamp": 1691430651989,
     "user": {
      "displayName": "Roshan Pokharel",
      "userId": "00416791194230879335"
     },
     "user_tz": -345
    },
    "id": "Ld5E3va1fpgQ"
   },
   "outputs": [],
   "source": [
    "def backward_propagation(Z1, A1, Z2, A2, Z3, A3, W0, W1, W2, A0, Y, lambd):\n",
    "    m = Y.shape[0]\n",
    "    #r = (lambd / m)\n",
    "    r = 0\n",
    "    # Encode the label\n",
    "    Y = one_hot_label(Y)\n",
    "\n",
    "    # Derivative of cost with respect to output\n",
    "    dZ3 = A3 - Y\n",
    "\n",
    "    # Compute the gradient of the cost with respect to output layer\n",
    "    dW2 = (1/m) * np.dot(dZ3, A2.T) + r * W2\n",
    "    db2 = (1/m) * np.sum(dZ3, axis=1, keepdims=True)\n",
    "\n",
    "    # Compute the derivative of the activation function for the second hidden layer\n",
    "    dZ2 = np.dot(W2.T, dZ3) * sigmoid_derivative(Z2)\n",
    "\n",
    "    # Gradient of cost with respect to second hidden layer\n",
    "    dW1 = (1/m) * np.dot(dZ2, A1.T) + r * W1  # Corrected this line\n",
    "    db1 = (1/m) * np.sum(dZ2, axis=1, keepdims=True)\n",
    "\n",
    "    # Compute the derivative of the activation function for the first hidden layer\n",
    "    dZ1 = np.dot(W1.T, dZ2) * tanh_derivative(Z1)\n",
    "\n",
    "    # Gradient of cost with respect to first hidden layer\n",
    "    dW0 = (1/m) * np.dot(dZ1, A0.T) + r * W0\n",
    "    db0 = (1/m) * np.sum(dZ1, axis=1, keepdims=True)\n",
    "\n",
    "    return dW0, db0, dW1, db1, dW2, db2"
   ]
  },
  {
   "cell_type": "code",
   "execution_count": 20,
   "id": "3391067e",
   "metadata": {
    "executionInfo": {
     "elapsed": 896,
     "status": "ok",
     "timestamp": 1691430659865,
     "user": {
      "displayName": "Roshan Pokharel",
      "userId": "00416791194230879335"
     },
     "user_tz": -345
    },
    "id": "3391067e"
   },
   "outputs": [],
   "source": [
    "# Function to update the parameters\n",
    "def update_parameters(W0, b0, W1, b1, W2, b2, dW0, db0, dW1, db1, dW2, db2, alpha):\n",
    "    # Update the parameters using gradient descent\n",
    "    W0 -= alpha * dW0\n",
    "    b0 -= alpha * db0\n",
    "\n",
    "    W1 -= alpha * dW1\n",
    "    b1 -= alpha * db1\n",
    "\n",
    "    W2 -= alpha * dW2\n",
    "    b2 -= alpha * db2\n",
    "\n",
    "    return W0, b0, W1, b1, W2, b2"
   ]
  },
  {
   "cell_type": "code",
   "execution_count": 21,
   "id": "nq6WN2HjPuPg",
   "metadata": {
    "executionInfo": {
     "elapsed": 9,
     "status": "ok",
     "timestamp": 1691430663086,
     "user": {
      "displayName": "Roshan Pokharel",
      "userId": "00416791194230879335"
     },
     "user_tz": -345
    },
    "id": "nq6WN2HjPuPg"
   },
   "outputs": [],
   "source": [
    "def obtain_prediction(x):\n",
    "    # If x is a single vector\n",
    "    if len(x.shape) == 1:\n",
    "        return np.argmax(x)\n",
    "\n",
    "    # If x is an array of vectors\n",
    "    else:\n",
    "        return np.apply_along_axis(np.argmax, axis=0, arr=x)"
   ]
  },
  {
   "cell_type": "code",
   "execution_count": 22,
   "id": "7770b39e",
   "metadata": {
    "executionInfo": {
     "elapsed": 5,
     "status": "ok",
     "timestamp": 1691427539213,
     "user": {
      "displayName": "Roshan Pokharel",
      "userId": "00416791194230879335"
     },
     "user_tz": -345
    },
    "id": "7770b39e"
   },
   "outputs": [],
   "source": [
    "# Obtain the accuracy score\n",
    "def accuracy_score(predicted, actual):\n",
    "    correct = np.sum(predicted == actual)\n",
    "    total = predicted.shape\n",
    "    return correct / total"
   ]
  },
  {
   "cell_type": "code",
   "execution_count": 23,
   "id": "ca5a6609",
   "metadata": {
    "executionInfo": {
     "elapsed": 464,
     "status": "ok",
     "timestamp": 1691431691828,
     "user": {
      "displayName": "Roshan Pokharel",
      "userId": "00416791194230879335"
     },
     "user_tz": -345
    },
    "id": "ca5a6609"
   },
   "outputs": [],
   "source": [
    "# Function to implement gradient descent\n",
    "def gradient_descent(A0, Y, alpha, epoch, lambd):\n",
    "    W0, b0, W1, b1, W2, b2 = initialize_parameters()\n",
    "    accuracy_list = []\n",
    "\n",
    "    for i in range(1, epoch + 1):\n",
    "        Z1, A1, Z2, A2, Z3, A3 = forward_propagation(W0, b0, W1, b1, W2, b2, A0)\n",
    "        dW0, db0, dW1, db1, dW2, db2 = backward_propagation(Z1, A1, Z2, A2, Z3, A3, W0, W1, W2, A0, Y, lambd)\n",
    "        W0, b0, W1, b1, W2, b2 = update_parameters(W0, b0, W1, b1, W2, b2, dW0, db0, dW1, db1, dW2, db2, alpha)\n",
    "\n",
    "        predicted = obtain_prediction(A3)\n",
    "        accuracy = accuracy_score(predicted, Y)\n",
    "        accuracy_list.append((i, accuracy))\n",
    "\n",
    "        if i % 5 == 0:\n",
    "            print(f\"Iteration {i}, Accuracy: {accuracy}\")\n",
    "\n",
    "    return W0, b0, W1, b1, W2, b2, accuracy_list"
   ]
  },
  {
   "cell_type": "code",
   "execution_count": 24,
   "id": "c1126218",
   "metadata": {
    "executionInfo": {
     "elapsed": 469,
     "status": "ok",
     "timestamp": 1691431496646,
     "user": {
      "displayName": "Roshan Pokharel",
      "userId": "00416791194230879335"
     },
     "user_tz": -345
    },
    "id": "c1126218"
   },
   "outputs": [],
   "source": [
    "def make_predictions(W0, b0, W1, b1, W2, b2, A0):\n",
    "    _, _, _, _, _, A3 = forward_propagation(W0, b0, W1, b1, W2, b2, A0)\n",
    "    prediction = obtain_prediction(A3)\n",
    "    return prediction"
   ]
  },
  {
   "cell_type": "code",
   "execution_count": 25,
   "id": "7d073ba0",
   "metadata": {
    "executionInfo": {
     "elapsed": 5,
     "status": "ok",
     "timestamp": 1691431497378,
     "user": {
      "displayName": "Roshan Pokharel",
      "userId": "00416791194230879335"
     },
     "user_tz": -345
    },
    "id": "7d073ba0"
   },
   "outputs": [],
   "source": [
    "def test_prediction(W0, b0, W1, b1, W2, b2, idx):\n",
    "    image = test_image[:,idx].reshape(28, 28)\n",
    "    actual_label = test_label[idx]\n",
    "    prediction = make_predictions(W0, b0, W1, b1, W2, b2, test_image[:,idx].reshape(-1,1))\n",
    "\n",
    "    plt.figure(figsize=(3,3))\n",
    "    plt.imshow(image, cmap='gray')\n",
    "    plt.title(f'Predicted: {prediction}, Actual: {actual_label}')\n",
    "    plt.axis('off')\n",
    "    plt.show()"
   ]
  },
  {
   "cell_type": "code",
   "execution_count": 26,
   "id": "11417c39",
   "metadata": {
    "colab": {
     "base_uri": "https://localhost:8080/"
    },
    "executionInfo": {
     "elapsed": 364997,
     "status": "ok",
     "timestamp": 1691432417039,
     "user": {
      "displayName": "Roshan Pokharel",
      "userId": "00416791194230879335"
     },
     "user_tz": -345
    },
    "id": "11417c39",
    "outputId": "4e2fc1f6-0b2b-4a01-f9c2-0fa1e63b86ab"
   },
   "outputs": [
    {
     "name": "stdout",
     "output_type": "stream",
     "text": [
      "Iteration 5, Accuracy: [0.08990244]\n",
      "Iteration 10, Accuracy: [0.09046341]\n",
      "Iteration 15, Accuracy: [0.09756098]\n",
      "Iteration 20, Accuracy: [0.11231707]\n",
      "Iteration 25, Accuracy: [0.13612195]\n",
      "Iteration 30, Accuracy: [0.1687561]\n",
      "Iteration 35, Accuracy: [0.20804878]\n",
      "Iteration 40, Accuracy: [0.24665854]\n",
      "Iteration 45, Accuracy: [0.28246341]\n",
      "Iteration 50, Accuracy: [0.31263415]\n",
      "Iteration 55, Accuracy: [0.33485366]\n",
      "Iteration 60, Accuracy: [0.35241463]\n",
      "Iteration 65, Accuracy: [0.36685366]\n",
      "Iteration 70, Accuracy: [0.3795122]\n",
      "Iteration 75, Accuracy: [0.38970732]\n",
      "Iteration 80, Accuracy: [0.399]\n",
      "Iteration 85, Accuracy: [0.40795122]\n",
      "Iteration 90, Accuracy: [0.41478049]\n",
      "Iteration 95, Accuracy: [0.4214878]\n",
      "Iteration 100, Accuracy: [0.42834146]\n",
      "Iteration 105, Accuracy: [0.4337561]\n",
      "Iteration 110, Accuracy: [0.43904878]\n",
      "Iteration 115, Accuracy: [0.44378049]\n",
      "Iteration 120, Accuracy: [0.44809756]\n",
      "Iteration 125, Accuracy: [0.45156098]\n",
      "Iteration 130, Accuracy: [0.45480488]\n",
      "Iteration 135, Accuracy: [0.458]\n",
      "Iteration 140, Accuracy: [0.46107317]\n",
      "Iteration 145, Accuracy: [0.4647561]\n",
      "Iteration 150, Accuracy: [0.4677561]\n",
      "Iteration 155, Accuracy: [0.4704878]\n",
      "Iteration 160, Accuracy: [0.47336585]\n",
      "Iteration 165, Accuracy: [0.47609756]\n",
      "Iteration 170, Accuracy: [0.47939024]\n",
      "Iteration 175, Accuracy: [0.48212195]\n",
      "Iteration 180, Accuracy: [0.48485366]\n",
      "Iteration 185, Accuracy: [0.48770732]\n",
      "Iteration 190, Accuracy: [0.49104878]\n",
      "Iteration 195, Accuracy: [0.49356098]\n",
      "Iteration 200, Accuracy: [0.49634146]\n",
      "Iteration 205, Accuracy: [0.49885366]\n",
      "Iteration 210, Accuracy: [0.50165854]\n",
      "Iteration 215, Accuracy: [0.50392683]\n",
      "Iteration 220, Accuracy: [0.50553659]\n",
      "Iteration 225, Accuracy: [0.5075122]\n",
      "Iteration 230, Accuracy: [0.50892683]\n",
      "Iteration 235, Accuracy: [0.51104878]\n",
      "Iteration 240, Accuracy: [0.51292683]\n",
      "Iteration 245, Accuracy: [0.51463415]\n",
      "Iteration 250, Accuracy: [0.51621951]\n",
      "Iteration 255, Accuracy: [0.51809756]\n",
      "Iteration 260, Accuracy: [0.51956098]\n",
      "Iteration 265, Accuracy: [0.52112195]\n",
      "Iteration 270, Accuracy: [0.52270732]\n",
      "Iteration 275, Accuracy: [0.5245122]\n",
      "Iteration 280, Accuracy: [0.5265122]\n",
      "Iteration 285, Accuracy: [0.52831707]\n",
      "Iteration 290, Accuracy: [0.52982927]\n",
      "Iteration 295, Accuracy: [0.5314878]\n",
      "Iteration 300, Accuracy: [0.5327561]\n",
      "Iteration 305, Accuracy: [0.53439024]\n",
      "Iteration 310, Accuracy: [0.5355122]\n",
      "Iteration 315, Accuracy: [0.53702439]\n",
      "Iteration 320, Accuracy: [0.53914634]\n",
      "Iteration 325, Accuracy: [0.54097561]\n",
      "Iteration 330, Accuracy: [0.54260976]\n",
      "Iteration 335, Accuracy: [0.54431707]\n",
      "Iteration 340, Accuracy: [0.54660976]\n",
      "Iteration 345, Accuracy: [0.54839024]\n",
      "Iteration 350, Accuracy: [0.55019512]\n",
      "Iteration 355, Accuracy: [0.55202439]\n",
      "Iteration 360, Accuracy: [0.55346341]\n",
      "Iteration 365, Accuracy: [0.55539024]\n",
      "Iteration 370, Accuracy: [0.55668293]\n",
      "Iteration 375, Accuracy: [0.55831707]\n",
      "Iteration 380, Accuracy: [0.55990244]\n",
      "Iteration 385, Accuracy: [0.56160976]\n",
      "Iteration 390, Accuracy: [0.56390244]\n",
      "Iteration 395, Accuracy: [0.56536585]\n",
      "Iteration 400, Accuracy: [0.56678049]\n",
      "Iteration 405, Accuracy: [0.56892683]\n",
      "Iteration 410, Accuracy: [0.57097561]\n",
      "Iteration 415, Accuracy: [0.57268293]\n",
      "Iteration 420, Accuracy: [0.5745122]\n",
      "Iteration 425, Accuracy: [0.57609756]\n",
      "Iteration 430, Accuracy: [0.57797561]\n",
      "Iteration 435, Accuracy: [0.57997561]\n",
      "Iteration 440, Accuracy: [0.58212195]\n",
      "Iteration 445, Accuracy: [0.58390244]\n",
      "Iteration 450, Accuracy: [0.58563415]\n",
      "Iteration 455, Accuracy: [0.58731707]\n",
      "Iteration 460, Accuracy: [0.58902439]\n",
      "Iteration 465, Accuracy: [0.59109756]\n",
      "Iteration 470, Accuracy: [0.59273171]\n",
      "Iteration 475, Accuracy: [0.59480488]\n",
      "Iteration 480, Accuracy: [0.5967561]\n",
      "Iteration 485, Accuracy: [0.59836585]\n",
      "Iteration 490, Accuracy: [0.60031707]\n",
      "Iteration 495, Accuracy: [0.60231707]\n",
      "Iteration 500, Accuracy: [0.60404878]\n",
      "Iteration 505, Accuracy: [0.60573171]\n",
      "Iteration 510, Accuracy: [0.60770732]\n",
      "Iteration 515, Accuracy: [0.60943902]\n",
      "Iteration 520, Accuracy: [0.61153659]\n",
      "Iteration 525, Accuracy: [0.61312195]\n",
      "Iteration 530, Accuracy: [0.61502439]\n",
      "Iteration 535, Accuracy: [0.61685366]\n",
      "Iteration 540, Accuracy: [0.61826829]\n",
      "Iteration 545, Accuracy: [0.61958537]\n",
      "Iteration 550, Accuracy: [0.62163415]\n",
      "Iteration 555, Accuracy: [0.62307317]\n",
      "Iteration 560, Accuracy: [0.62446341]\n",
      "Iteration 565, Accuracy: [0.62614634]\n",
      "Iteration 570, Accuracy: [0.62773171]\n",
      "Iteration 575, Accuracy: [0.62919512]\n",
      "Iteration 580, Accuracy: [0.63034146]\n",
      "Iteration 585, Accuracy: [0.632]\n",
      "Iteration 590, Accuracy: [0.63307317]\n",
      "Iteration 595, Accuracy: [0.63446341]\n",
      "Iteration 600, Accuracy: [0.63607317]\n",
      "Iteration 605, Accuracy: [0.63714634]\n",
      "Iteration 610, Accuracy: [0.63834146]\n",
      "Iteration 615, Accuracy: [0.63973171]\n",
      "Iteration 620, Accuracy: [0.64102439]\n",
      "Iteration 625, Accuracy: [0.64256098]\n",
      "Iteration 630, Accuracy: [0.64390244]\n",
      "Iteration 635, Accuracy: [0.64543902]\n",
      "Iteration 640, Accuracy: [0.64670732]\n",
      "Iteration 645, Accuracy: [0.64814634]\n",
      "Iteration 650, Accuracy: [0.64914634]\n",
      "Iteration 655, Accuracy: [0.65060976]\n",
      "Iteration 660, Accuracy: [0.65197561]\n",
      "Iteration 665, Accuracy: [0.65326829]\n",
      "Iteration 670, Accuracy: [0.65431707]\n",
      "Iteration 675, Accuracy: [0.65565854]\n",
      "Iteration 680, Accuracy: [0.65721951]\n",
      "Iteration 685, Accuracy: [0.65878049]\n",
      "Iteration 690, Accuracy: [0.66041463]\n",
      "Iteration 695, Accuracy: [0.6617561]\n",
      "Iteration 700, Accuracy: [0.66302439]\n",
      "Iteration 705, Accuracy: [0.66441463]\n",
      "Iteration 710, Accuracy: [0.66595122]\n",
      "Iteration 715, Accuracy: [0.66714634]\n",
      "Iteration 720, Accuracy: [0.66807317]\n",
      "Iteration 725, Accuracy: [0.66963415]\n",
      "Iteration 730, Accuracy: [0.67060976]\n",
      "Iteration 735, Accuracy: [0.67182927]\n",
      "Iteration 740, Accuracy: [0.67307317]\n",
      "Iteration 745, Accuracy: [0.67473171]\n",
      "Iteration 750, Accuracy: [0.67587805]\n",
      "Iteration 755, Accuracy: [0.67704878]\n",
      "Iteration 760, Accuracy: [0.67834146]\n",
      "Iteration 765, Accuracy: [0.67956098]\n",
      "Iteration 770, Accuracy: [0.68073171]\n",
      "Iteration 775, Accuracy: [0.68180488]\n",
      "Iteration 780, Accuracy: [0.68304878]\n",
      "Iteration 785, Accuracy: [0.68421951]\n",
      "Iteration 790, Accuracy: [0.68521951]\n",
      "Iteration 795, Accuracy: [0.68646341]\n",
      "Iteration 800, Accuracy: [0.68729268]\n",
      "Iteration 805, Accuracy: [0.6882439]\n",
      "Iteration 810, Accuracy: [0.68914634]\n",
      "Iteration 815, Accuracy: [0.69017073]\n",
      "Iteration 820, Accuracy: [0.69117073]\n",
      "Iteration 825, Accuracy: [0.69204878]\n",
      "Iteration 830, Accuracy: [0.693]\n",
      "Iteration 835, Accuracy: [0.69402439]\n",
      "Iteration 840, Accuracy: [0.69490244]\n",
      "Iteration 845, Accuracy: [0.69590244]\n",
      "Iteration 850, Accuracy: [0.69673171]\n",
      "Iteration 855, Accuracy: [0.69773171]\n",
      "Iteration 860, Accuracy: [0.69865854]\n",
      "Iteration 865, Accuracy: [0.69970732]\n",
      "Iteration 870, Accuracy: [0.70065854]\n",
      "Iteration 875, Accuracy: [0.70185366]\n",
      "Iteration 880, Accuracy: [0.70268293]\n",
      "Iteration 885, Accuracy: [0.70380488]\n",
      "Iteration 890, Accuracy: [0.70492683]\n",
      "Iteration 895, Accuracy: [0.706]\n",
      "Iteration 900, Accuracy: [0.707]\n",
      "Iteration 905, Accuracy: [0.70826829]\n",
      "Iteration 910, Accuracy: [0.70929268]\n",
      "Iteration 915, Accuracy: [0.71031707]\n",
      "Iteration 920, Accuracy: [0.71119512]\n",
      "Iteration 925, Accuracy: [0.71209756]\n",
      "Iteration 930, Accuracy: [0.71285366]\n",
      "Iteration 935, Accuracy: [0.71356098]\n",
      "Iteration 940, Accuracy: [0.71439024]\n",
      "Iteration 945, Accuracy: [0.71504878]\n",
      "Iteration 950, Accuracy: [0.71634146]\n",
      "Iteration 955, Accuracy: [0.71714634]\n",
      "Iteration 960, Accuracy: [0.71829268]\n",
      "Iteration 965, Accuracy: [0.71897561]\n",
      "Iteration 970, Accuracy: [0.72009756]\n",
      "Iteration 975, Accuracy: [0.72078049]\n",
      "Iteration 980, Accuracy: [0.72173171]\n",
      "Iteration 985, Accuracy: [0.7224878]\n",
      "Iteration 990, Accuracy: [0.72321951]\n",
      "Iteration 995, Accuracy: [0.72426829]\n",
      "Iteration 1000, Accuracy: [0.72521951]\n"
     ]
    }
   ],
   "source": [
    "alpha = 0.07\n",
    "epoch = 1000\n",
    "lambd = 0.01\n",
    "W0, b0, W1, b1, W2, b2, accuracy_list = gradient_descent(train_image, train_label, alpha, epoch, lambd)"
   ]
  },
  {
   "cell_type": "code",
   "execution_count": 27,
   "id": "4c8a290f",
   "metadata": {
    "colab": {
     "base_uri": "https://localhost:8080/",
     "height": 489
    },
    "executionInfo": {
     "elapsed": 54,
     "status": "ok",
     "timestamp": 1691432417045,
     "user": {
      "displayName": "Roshan Pokharel",
      "userId": "00416791194230879335"
     },
     "user_tz": -345
    },
    "id": "4c8a290f",
    "outputId": "0fe1c9ad-c61b-4bf2-a28f-da713f444c00"
   },
   "outputs": [
    {
     "name": "stdout",
     "output_type": "stream",
     "text": [
      "Epoch : 1000, Maximum Accuracy: 72.52%\n"
     ]
    },
    {
     "data": {
      "image/png": "[encoded data removed]",
      "text/plain": [
       "<Figure size 640x480 with 1 Axes>"
      ]
     },
     "metadata": {},
     "output_type": "display_data"
    }
   ],
   "source": [
    "# Extract epoch numbers and accuracy values\n",
    "epochs = [entry[0] for entry in accuracy_list]\n",
    "accuracy_values = [entry[1][0] for entry in accuracy_list]\n",
    "\n",
    "# Find the maximum accuracy and its index\n",
    "max_accuracy = max(accuracy_values)\n",
    "max_accuracy_epoch = epochs[accuracy_values.index(max_accuracy)]\n",
    "\n",
    "# Print the maximum accuracy and its epoch\n",
    "print(f\"Epoch : {max_accuracy_epoch}, Maximum Accuracy: {max_accuracy*100:.2f}%\")\n",
    "\n",
    "\n",
    "# Plot the epoch versus accuracy curve\n",
    "plt.plot(epochs, accuracy_values)\n",
    "plt.xlabel('Epochs')\n",
    "plt.ylabel('Accuracy')\n",
    "plt.title('Epoch vs Accuracy')\n",
    "plt.grid()\n",
    "plt.show()"
   ]
  },
  {
   "cell_type": "code",
   "execution_count": 31,
   "id": "GVmVWyX75fuW",
   "metadata": {
    "id": "GVmVWyX75fuW"
   },
   "outputs": [
    {
     "data": {
      "image/png": "[encoded data removed]",
      "text/plain": [
       "<Figure size 300x300 with 1 Axes>"
      ]
     },
     "metadata": {},
     "output_type": "display_data"
    }
   ],
   "source": [
    "test_prediction(W0, b0, W1, b1, W2, b2, np.random.randint(0, 1000))"
   ]
  },
  {
   "cell_type": "code",
   "execution_count": 29,
   "id": "4dXykGquE4BI",
   "metadata": {
    "colab": {
     "base_uri": "https://localhost:8080/"
    },
    "executionInfo": {
     "elapsed": 46,
     "status": "ok",
     "timestamp": 1691432417046,
     "user": {
      "displayName": "Roshan Pokharel",
      "userId": "00416791194230879335"
     },
     "user_tz": -345
    },
    "id": "4dXykGquE4BI",
    "outputId": "86e93ed0-6b46-4630-eec5-e03e0619fd21"
   },
   "outputs": [
    {
     "name": "stdout",
     "output_type": "stream",
     "text": [
      "Accuracy Score from test set: 74.10%\n"
     ]
    }
   ],
   "source": [
    "# Accuracy score on the test set\n",
    "_, _, _, _, _, A3 = forward_propagation(W0, b0, W1, b1, W2, b2, test_image)\n",
    "prediction = obtain_prediction(A3)\n",
    "accuracy = accuracy_score(prediction, test_label)\n",
    "print(f'Accuracy Score from test set: {\"{:.2%}\".format(float(accuracy))}', )"
   ]
  }
 ],
 "metadata": {
  "colab": {
   "provenance": []
  },
  "kernelspec": {
   "display_name": "Python 3 (ipykernel)",
   "language": "python",
   "name": "python3"
  },
  "language_info": {
   "codemirror_mode": {
    "name": "ipython",
    "version": 3
   },
   "file_extension": ".py",
   "mimetype": "text/x-python",
   "name": "python",
   "nbconvert_exporter": "python",
   "pygments_lexer": "ipython3",
   "version": "3.11.4"
  }
 },
 "nbformat": 4,
 "nbformat_minor": 5
}
