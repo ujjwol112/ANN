{
 "cells": [
  {
   "cell_type": "code",
   "execution_count": null,
   "id": "415de6e9",
   "metadata": {},
   "outputs": [],
   "source": [
    "import numpy as np\n",
    "import pandas as pd\n",
    "import matplotlib.pyplot as plt"
   ]
  },
  {
   "cell_type": "code",
   "execution_count": null,
   "id": "0be36b83",
   "metadata": {},
   "outputs": [],
   "source": [
    "# Load the dataframe\n",
    "df = pd.read_csv('digit_data.csv')\n",
    "print('Size of the dataframe: ',df.shape)"
   ]
  },
  {
   "cell_type": "code",
   "execution_count": null,
   "id": "ffca6897",
   "metadata": {},
   "outputs": [],
   "source": [
    "# Randomly select and visualize images from each label\n",
    "random_rows = df.groupby('label').apply(lambda x: x.sample(1)).reset_index(drop=True)\n",
    "fig, axes = plt.subplots(2, 5, figsize=(3, 3))\n",
    "for i, ax in enumerate(axes.flat):\n",
    "    image_data = random_rows.iloc[i, 1:].values\n",
    "    image = np.array(image_data).reshape(28,28)\n",
    "    label = random_rows.iloc[i, 0]\n",
    "    ax.imshow(image, cmap='gray')\n",
    "    ax.set_title(f\"Label: {label}\", fontsize=8)\n",
    "    ax.axis('off')\n",
    "plt.subplots_adjust(wspace=.2, hspace=-.8)\n",
    "plt.tight_layout()\n",
    "plt.show()"
   ]
  },
  {
   "cell_type": "code",
   "execution_count": null,
   "id": "512d8411",
   "metadata": {},
   "outputs": [],
   "source": [
    "# Convert dataframe to numpy array and shuffle\n",
    "df_arr = np.array(df)\n",
    "np.random.seed(42)\n",
    "np.random.shuffle(df_arr)"
   ]
  },
  {
   "cell_type": "code",
   "execution_count": null,
   "id": "6c46ebff",
   "metadata": {},
   "outputs": [],
   "source": [
    "# Split into test and train sets\n",
    "test_set = df_arr[:1000,:].T\n",
    "train_set = df_arr[1000:,:].T"
   ]
  },
  {
   "cell_type": "code",
   "execution_count": null,
   "id": "93d7b8e1",
   "metadata": {},
   "outputs": [],
   "source": [
    "# Normalize input data\n",
    "train_image = train_set[1:, :] / 255\n",
    "train_label = train_set[0, :]\n",
    "test_image = test_set[1:, :] / 255\n",
    "test_label = test_set[0, :]"
   ]
  },
  {
   "cell_type": "code",
   "execution_count": null,
   "id": "0e0eb665",
   "metadata": {},
   "outputs": [],
   "source": [
    "# Define model hyperparameters\n",
    "input_size = 784\n",
    "hidden_size = 128\n",
    "output_size = 10\n",
    "alpha = 0.01\n",
    "epoch = 200\n",
    "lambd = 0.01\n",
    "keep_prob = 0.8"
   ]
  },
  {
   "cell_type": "code",
   "execution_count": null,
   "id": "73eb54cf",
   "metadata": {},
   "outputs": [],
   "source": [
    "idx = np.random.randint(1000, 42000)\n",
    "image = train_image[:,idx].reshape(28,28)\n",
    "label = train_label[idx]\n",
    "plt.figure(figsize=(3,3))\n",
    "plt.imshow(image, cmap='gray')\n",
    "plt.title(f\"Label: {label}\", fontsize=12)\n",
    "plt.axis('off')\n",
    "plt.show()"
   ]
  },
  {
   "cell_type": "code",
   "execution_count": null,
   "id": "5b909aec",
   "metadata": {},
   "outputs": [],
   "source": [
    "# Xavier initialization for weights\n",
    "def initialize_parameters():\n",
    "    np.random.seed(42)\n",
    "    W0 = np.random.randn(hidden_size, input_size) * np.sqrt(2 / input_size)\n",
    "    b0 = np.zeros((hidden_size, 1))\n",
    "    W1 = np.random.randn(output_size, hidden_size) * np.sqrt(2 / hidden_size)\n",
    "    b1 = np.zeros((output_size, 1))\n",
    "    return W0, b0, W1, b1"
   ]
  },
  {
   "cell_type": "code",
   "execution_count": null,
   "id": "ec283fc0",
   "metadata": {},
   "outputs": [],
   "source": [
    "# ReLU activation function\n",
    "def relu_activation(x):\n",
    "    return np.maximum(0, x)\n",
    "\n",
    "# ReLU derivative\n",
    "def relu_derivative(x):\n",
    "    return np.where(x > 0, 1, 0)\n",
    "\n",
    "# Softmax activation function\n",
    "def softmax_activation(x):\n",
    "    temp = np.exp(x - np.max(x))\n",
    "    return temp / np.sum(temp)"
   ]
  },
  {
   "cell_type": "code",
   "execution_count": null,
   "id": "29d376e8",
   "metadata": {},
   "outputs": [],
   "source": [
    "# Forward propagation\n",
    "def forward_propagation(W0, b0, W1, b1, A0, keep_prob):\n",
    "    Z1 = np.dot(W0, A0) + b0\n",
    "    A1 = relu_activation(Z1)\n",
    "    D1 = np.random.rand(A1.shape[0], A1.shape[1]) < keep_prob\n",
    "    A1 *= D1\n",
    "    A1 /= keep_prob\n",
    "    Z2 = np.dot(W1, A1) + b1\n",
    "    A2 = softmax_activation(Z2)\n",
    "    return Z1, A1, Z2, A2"
   ]
  },
  {
   "cell_type": "code",
   "execution_count": null,
   "id": "ec0afe02",
   "metadata": {},
   "outputs": [],
   "source": [
    "def one_hot_label(Y):\n",
    "    m = Y.shape[0]\n",
    "    one_hot_encoded = np.zeros((10, m))\n",
    "    one_hot_encoded[Y, np.arange(m)] = 1\n",
    "    return one_hot_encoded"
   ]
  },
  {
   "cell_type": "code",
   "execution_count": null,
   "id": "bfcfe831",
   "metadata": {},
   "outputs": [],
   "source": [
    "# Backward propagation with L2 regularization\n",
    "def backward_propagation(Z1, A1, Z2, A2, W0, W1, A0, Y, lambd):\n",
    "    m = Y.shape[0]\n",
    "    Y = one_hot_label(Y)\n",
    "    dZ2 = A2 - Y\n",
    "    dW1 = (1/m) * np.dot(dZ2, A1.T) + (lambd / m) * W1\n",
    "    db1 = (1/m) * np.sum(dZ2, axis=1, keepdims=True)\n",
    "    dZ1 = np.dot(W1.T, dZ2) * relu_derivative(Z1)\n",
    "    dW0 = (1/m) * np.dot(dZ1, A0.T) + (lambd / m) * W0\n",
    "    db0 = (1/m) * np.sum(dZ1, axis=1, keepdims=True)\n",
    "    return dW0, db0, dW1, db1"
   ]
  },
  {
   "cell_type": "code",
   "execution_count": null,
   "id": "656752e3",
   "metadata": {},
   "outputs": [],
   "source": [
    "# Update parameters\n",
    "def update_parameters(W0, b0, W1, b1, dW0, db0, dW1, db1, alpha):\n",
    "    W0 -= alpha * dW0\n",
    "    b0 -= alpha * db0\n",
    "    W1 -= alpha * dW1\n",
    "    b1 -= alpha * db1\n",
    "    return W0, b0, W1, b1"
   ]
  },
  {
   "cell_type": "code",
   "execution_count": null,
   "id": "84721ec7",
   "metadata": {},
   "outputs": [],
   "source": [
    "def obtain_prediction(x):\n",
    "    # If x is a single vector\n",
    "    if len(x.shape) == 1:\n",
    "        return np.argmax(x)\n",
    "\n",
    "    # If x is an array of vectors\n",
    "    else:\n",
    "        return np.apply_along_axis(np.argmax, axis=0, arr=x)"
   ]
  },
  {
   "cell_type": "code",
   "execution_count": null,
   "id": "38e040fc",
   "metadata": {},
   "outputs": [],
   "source": [
    "# Obtain the accuracy score\n",
    "def accuracy_score(predicted, actual):\n",
    "    correct = np.sum(predicted == actual)\n",
    "    total = predicted.shape\n",
    "    return correct / total"
   ]
  },
  {
   "cell_type": "code",
   "execution_count": null,
   "id": "277ecdc6",
   "metadata": {},
   "outputs": [],
   "source": [
    "def gradient_descent_with_early_stopping(A0, Y, alpha, epoch):\n",
    "    W0, b0, W1, b1 = initialize_parameters()\n",
    "    accuracy_list = []\n",
    "    best_validation_accuracy = 0.0\n",
    "    for i in range(1, epoch + 1):\n",
    "        Z1, A1, Z2, A2 = forward_propagation(W0, b0, W1, b1, A0, keep_prob)\n",
    "        dW0, db0, dW1, db1 = backward_propagation(Z1, A1, Z2, A2, W0, W1, A0, Y, lambd)\n",
    "        W0, b0, W1, b1 = update_parameters(W0, b0, W1, b1, dW0, db0, dW1, db1, alpha)\n",
    "        \n",
    "        # Validation accuracy\n",
    "        validation_predictions = make_predictions(W0, b0, W1, b1, validation_image)\n",
    "        validation_accuracy = accuracy_score(validation_predictions, validation_label)\n",
    "        \n",
    "        accuracy_list.append((i, (validation_accuracy, accuracy)))\n",
    "        \n",
    "        # Early stopping\n",
    "        if validation_accuracy > best_validation_accuracy:\n",
    "            best_validation_accuracy = validation_accuracy\n",
    "        else:\n",
    "            break\n",
    "    \n",
    "    return W0, b0, W1, b1, accuracy_list"
   ]
  },
  {
   "cell_type": "code",
   "execution_count": null,
   "id": "3589fe3f",
   "metadata": {},
   "outputs": [],
   "source": [
    "# Make predictions\n",
    "def make_predictions(W0, b0, W1, b1, A0):\n",
    "    _, _, _, A2 = forward_propagation(W0, b0, W1, b1, A0, keep_prob)\n",
    "    predictions = obtain_prediction(A2)\n",
    "    return predictions"
   ]
  },
  {
   "cell_type": "code",
   "execution_count": null,
   "id": "99cbe184",
   "metadata": {},
   "outputs": [],
   "source": [
    "def test_prediction(W0, b0, W1, b1, idx):\n",
    "    image = test_set[1:,idx].reshape(28, 28)\n",
    "    actual_label = test_label[idx]\n",
    "    prediction = make_predictions(W0, b0, W1, b1, test_image[:,idx])\n",
    "\n",
    "    plt.figure(figsize=(3, 3))\n",
    "    plt.imshow(image, cmap='gray')\n",
    "    plt.title(f'Predicted: {prediction}, Actual: {actual_label}')\n",
    "    plt.axis('off')\n",
    "    plt.show()"
   ]
  },
  {
   "cell_type": "code",
   "execution_count": null,
   "id": "0ae9d659",
   "metadata": {},
   "outputs": [],
   "source": [
    "W0, b0, W1, b1, accuracy_list = gradient_descent_with_early_stopping(train_image, train_label, alpha, epoch)\n",
    "test_prediction(W0, b0, W1, b1, np.random.randint(0, 1000))"
   ]
  },
  {
   "cell_type": "code",
   "execution_count": null,
   "id": "99be08ff",
   "metadata": {},
   "outputs": [],
   "source": [
    "# Extract epoch numbers and accuracy values\n",
    "epochs = [entry[0] for entry in accuracy_list]\n",
    "accuracy_values = [entry[1][0] for entry in accuracy_list]\n",
    "\n",
    "# Find the maximum accuracy and its index\n",
    "max_accuracy = max(accuracy_values)\n",
    "max_accuracy_epoch = epochs[accuracy_values.index(max_accuracy)]\n",
    "\n",
    "# Print the maximum accuracy and its epoch\n",
    "print(f\"Epoch : {max_accuracy_epoch}, Maximum Accuracy: {max_accuracy*100:.2f}%\")\n",
    "\n",
    "\n",
    "# Plot the epoch versus accuracy curve\n",
    "plt.plot(epochs, accuracy_values)\n",
    "plt.xlabel('Epochs')\n",
    "plt.ylabel('Accuracy')\n",
    "plt.title('Epoch vs Accuracy')\n",
    "plt.grid()\n",
    "plt.show()"
   ]
  }
 ],
 "metadata": {
  "colab": {
   "provenance": []
  },
  "kernelspec": {
   "display_name": "Python 3 (ipykernel)",
   "language": "python",
   "name": "python3"
  },
  "language_info": {
   "codemirror_mode": {
    "name": "ipython",
    "version": 3
   },
   "file_extension": ".py",
   "mimetype": "text/x-python",
   "name": "python",
   "nbconvert_exporter": "python",
   "pygments_lexer": "ipython3",
   "version": "3.11.4"
  }
 },
 "nbformat": 4,
 "nbformat_minor": 5
}
